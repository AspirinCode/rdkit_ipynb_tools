{
 "cells": [
  {
   "cell_type": "code",
   "execution_count": 1,
   "metadata": {
    "collapsed": false
   },
   "outputs": [
    {
     "name": "stdout",
     "output_type": "stream",
     "text": [
      "rdkit_ipynb_tools.html_templates              (150723-17:36   html/mol_table/index.html)\n",
      "rdkit_ipynb_tools.tools                       (150729-13:04)\n",
      "- loading highcharts...\n"
     ]
    },
    {
     "name": "stderr",
     "output_type": "stream",
     "text": [
      ":0: FutureWarning: IPython widgets are experimental and may change in the future.\n"
     ]
    },
    {
     "data": {
      "text/html": [
       "\n",
       "<script src=\"lib/highcharts.js\"></script>\n",
       "<script src=\"lib/highcharts-more.js\"></script>\n",
       "<script src=\"lib/modules/exporting.js\"></script>\n"
      ],
      "text/plain": [
       "<IPython.core.display.HTML object>"
      ]
     },
     "metadata": {},
     "output_type": "display_data"
    }
   ],
   "source": [
    "%load_ext autoreload\n",
    "%autoreload 2\n",
    "\n",
    "import pandas as pd\n",
    "import string\n",
    "\n",
    "from rdkit_ipynb_tools import hc_tools as hct"
   ]
  },
  {
   "cell_type": "code",
   "execution_count": 2,
   "metadata": {
    "collapsed": false
   },
   "outputs": [],
   "source": [
    "#d = {\"x\": [1, 2, 3], \"y\": [1, 4, 9], \"id\": [100, 101, 102]}\n",
    "d = {\"LogP\": [1, 2, 3], \"Activity\": [1, 4, 9], \"id\": [100, 101, 102]}\n",
    "d2 = {\"LogP\": [1, 2, 5, 4, 6, 8, 3, 2], \"Activity\": [1, 4, 9, 2, 5, 3, 7, 1], \n",
    "      \"class\": [\"A\", \"A\", \"B\", \"C\", \"C\", \"C\", \"A\", \"B\"], \"id\": [100, 101, 102, 103, 104, 105, 106, 107]}"
   ]
  },
  {
   "cell_type": "code",
   "execution_count": 14,
   "metadata": {
    "collapsed": false
   },
   "outputs": [],
   "source": [
    "scatter = hct.Chart()"
   ]
  },
  {
   "cell_type": "code",
   "execution_count": 15,
   "metadata": {
    "collapsed": false
   },
   "outputs": [
    {
     "data": {
      "text/html": [
       "<div id=\"container_150731101022\" style=\"height: 400px\"></div>\n",
       "<script>\n",
       "$(function () {\n",
       "    $('#container_150731101022').highcharts(\n",
       "\n",
       "{\"legend\": {\"enabled\": false}, \"chart\": {\"zoomType\": \"xy\", \"type\": \"scatter\"}, \"credits\": {\"enabled\": false}, \"subtitle\": {\"text\": null}, \"title\": {\"text\": \"scatter plot\"}, \"xAxis\": {\"title\": {\"text\": \"LogP\", \"enabled\": true}}, \"yAxis\": {\"title\": {\"text\": \"Activity\", \"enabled\": true}}, \"tooltip\": {\"headerFormat\": \"\", \"pointFormat\": \"<b>LogP:</b> {point.x}<br><b>Activity:</b> {point.y}<br><b>id:</b>  {point.id}\"}, \"series\": [{\"name\": \"series\", \"data\": [{\"x\": 1, \"id\": 100, \"y\": 1}, {\"x\": 2, \"id\": 101, \"y\": 4}, {\"x\": 3, \"id\": 102, \"y\": 9}]}]}\n",
       "\n",
       "    );\n",
       "});\n",
       "</script>\n"
      ],
      "text/plain": [
       "<IPython.core.display.HTML object>"
      ]
     },
     "execution_count": 15,
     "metadata": {},
     "output_type": "execute_result"
    }
   ],
   "source": [
    "#scatter.add_data(d)\n",
    "scatter.add_data(d, x=\"LogP\", y=\"Activity\")\n",
    "scatter.show(debug=False)"
   ]
  },
  {
   "cell_type": "code",
   "execution_count": 44,
   "metadata": {
    "collapsed": false
   },
   "outputs": [
    {
     "name": "stdout",
     "output_type": "stream",
     "text": [
      "- loading highcharts...\n"
     ]
    },
    {
     "data": {
      "text/html": [
       "\n",
       "<script src=\"lib/highcharts.js\"></script>\n",
       "<script src=\"lib/highcharts-more.js\"></script>\n",
       "<script src=\"lib/modules/exporting.js\"></script>\n"
      ],
      "text/plain": [
       "<IPython.core.display.HTML object>"
      ]
     },
     "metadata": {},
     "output_type": "display_data"
    }
   ],
   "source": [
    "scatter = hct.Chart(title=\"Coloring\", radius=5)"
   ]
  },
  {
   "cell_type": "code",
   "execution_count": 45,
   "metadata": {
    "collapsed": false
   },
   "outputs": [
    {
     "data": {
      "text/html": [
       "<div id=\"container_150731103724\" style=\"height: 400px\"></div>\n",
       "<script>\n",
       "$(function () {\n",
       "    $('#container_150731103724').highcharts(\n",
       "\n",
       "{\"legend\": {\"enabled\": false}, \"xAxis\": {\"title\": {\"text\": \"LogP\", \"enabled\": true}}, \"chart\": {\"zoomType\": \"xy\", \"type\": \"scatter\"}, \"plotOptions\": {\"scatter\": {\"marker\": {\"radius\": 5}}}, \"credits\": {\"enabled\": false}, \"title\": {\"text\": \"Coloring\"}, \"subtitle\": {\"text\": null}, \"yAxis\": {\"title\": {\"text\": \"Activity\", \"enabled\": true}}, \"tooltip\": {\"headerFormat\": \"<b>class: {series.name}</b><br>\", \"pointFormat\": \"<b>LogP:</b> {point.x}<br><b>Activity:</b> {point.y}<br><b>id:</b>  {point.id}\"}, \"series\": [{\"name\": \"C\", \"data\": [{\"x\": 4, \"id\": 103, \"y\": 2}, {\"x\": 6, \"id\": 104, \"y\": 5}, {\"x\": 8, \"id\": 105, \"y\": 3}]}, {\"name\": \"A\", \"data\": [{\"x\": 1, \"id\": 100, \"y\": 1}, {\"x\": 2, \"id\": 101, \"y\": 4}, {\"x\": 3, \"id\": 106, \"y\": 7}]}, {\"name\": \"B\", \"data\": [{\"x\": 5, \"id\": 102, \"y\": 9}, {\"x\": 2, \"id\": 107, \"y\": 1}]}]}\n",
       "\n",
       "    );\n",
       "});\n",
       "</script>\n"
      ],
      "text/plain": [
       "<IPython.core.display.HTML object>"
      ]
     },
     "execution_count": 45,
     "metadata": {},
     "output_type": "execute_result"
    }
   ],
   "source": [
    "scatter.add_data(d2, x=\"LogP\", y=\"Activity\", color_by=\"class\")\n",
    "scatter.show()"
   ]
  },
  {
   "cell_type": "code",
   "execution_count": null,
   "metadata": {
    "collapsed": true
   },
   "outputs": [],
   "source": []
  }
 ],
 "metadata": {
  "kernelspec": {
   "display_name": "Python 3",
   "language": "python",
   "name": "python3"
  },
  "language_info": {
   "codemirror_mode": {
    "name": "ipython",
    "version": 3
   },
   "file_extension": ".py",
   "mimetype": "text/x-python",
   "name": "python",
   "nbconvert_exporter": "python",
   "pygments_lexer": "ipython3",
   "version": "3.4.2"
  }
 },
 "nbformat": 4,
 "nbformat_minor": 0
}
