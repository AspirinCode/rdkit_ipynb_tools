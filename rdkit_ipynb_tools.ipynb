{
 "cells": [
  {
   "cell_type": "code",
   "execution_count": 1,
   "metadata": {
    "collapsed": false
   },
   "outputs": [
    {
     "name": "stdout",
     "output_type": "stream",
     "text": [
      "rdkit_ipynb_tools.html_templates              (150701-08:56   html/mol_table/index.html)\n",
      "rdkit_ipynb_tools.tools                       (150702-13:15)\n"
     ]
    }
   ],
   "source": [
    "%load_ext autoreload\n",
    "%autoreload 2\n",
    "\n",
    "import os\n",
    "\n",
    "from rdkit.Chem import AllChem as Chem\n",
    "from rdkit.Chem import Draw\n",
    "from rdkit.Chem.Draw import IPythonConsole\n",
    "Draw.DrawingOptions.atomLabelFontFace = \"DejaVu Sans\"\n",
    "Draw.DrawingOptions.atomLabelFontSize = 18\n",
    "\n",
    "from rdkit_ipynb_tools import tools"
   ]
  },
  {
   "cell_type": "markdown",
   "metadata": {},
   "source": [
    "### Molecule Table From a List of Molecules: *show_table()*"
   ]
  },
  {
   "cell_type": "code",
   "execution_count": 2,
   "metadata": {
    "collapsed": false
   },
   "outputs": [],
   "source": [
    "mol_list = [mol for mol in Chem.SupplierFromFilename(os.getenv(\"RDBASE\")+\"/Code/Demos/RDKit/Basement/TemplEnum/esters.sdf\")]"
   ]
  },
  {
   "cell_type": "markdown",
   "metadata": {},
   "source": [
    "#### Molecule properties are shown as columns"
   ]
  },
  {
   "cell_type": "markdown",
   "metadata": {},
   "source": [
    "put the folder \"html\" contained in the project rdkit_ipynb_tools into the folder where your IPython notebook resides to have some basic CSS formatting of the table"
   ]
  },
  {
   "cell_type": "code",
   "execution_count": 3,
   "metadata": {
    "collapsed": false
   },
   "outputs": [
    {
     "data": {
      "text/html": [
       "<table cellpadding=\"1\" cellspacing=\"1\" border=\"1\" summary=\"Table\" align=\"\" height=\"60px\" >\n",
       "<tbody>\n",
       "<tr><td bgcolor=\"#94CAEF\" ><b>#</b></td><td bgcolor=\"#94CAEF\" ><b>Molecule</b></td><td bgcolor=\"#94CAEF\" ><b>ID</b></td></tr>\n",
       "<tr><td id=\"0\" >0</td><td><img  title=\"0\" src=\"data:image/png;base64,iVBORw0KGgoAAAANSUhEUgAAAF4AAABCCAIAAABRpPbZAAAFjElEQVR4nO2bS2gTWxjHP2U6bZOmqQ0aH6SiNZKi1hIsgoqRa0UJAR+QLoRuXIS7iiBespKIbip4cVwWQexGSzZCfPSW+kCqUqpIFAyhtlpLbY2ENG2TxiSd/u8i4CNmbJqcyWW486Orc86c//CDnp4p37cCACmLmRm6coVu36bRUSKizZvp2DE6c4bq6hgHQVkEg2hoAFHuT0MDgkG2UYpSk0jAbAYRdu5Eby/m5hCPo68PLS0ggtmMRIJhmqLUCAKI0NSEubmfxufmYLGACFevMkxTlJr9+0GEnp48U7dugQg2G8O0FVDQMWwwUDRK4TCtWZM79fkzrVtHBgNFIqzSFKWmooIWFiiTIY7LncpkiOeJ4yiTYZW2ktVG5aC2logoGs0zlR3U6xmmKUrN9u1ERI8f55nKDmYXMEJRak6cICK6cIESiZ/GEwm6ePH7AlYwPNJlJx7Hli0ggtWKvj7E40gk0N8Pq/V/f68BEAzCZMpzGzaZmN+GFfUXKksslvsNdfy4HN9QClRTLhR1DJcXpalxuWhoKHfw4UM6e5Z5lNLU3L9Pk5O5gx8+0IMHzKOUpqaMqGokUdVIoqqRRFUjiapGElWNJKoaSVQ1kqhqJFHVSKIwNcMtLZ95PmdwQqMZtliYZylMzR+BwGA6nTP4z/x8eyjEPEthasqJqkYSVY0kqhpJVDWSqGokUdVIoqqRRFUjiapGElWNJCtHR0cHBgb+69colFWrVvE8T0SvXr26efNmKBQioqqqqjrm9dREdOPGjcrKyvb29rGxMbZFGDIxNTV16tSpioqKQ4cO8Tx/+vTpaDQqRxABmJiY6Ojo4Hne7XZPT0/LEcOE2dlZj8dTXV3tcDiGh4cBBIPBw4cP19TUeL3er1+/so37Xno0ODi4e/fu+vp6QRAWFhbYxpSIKIpdXV0bNmzYtm1bf39/zqzf79+0aZPZbPb5fAxDf6rKEkWxu7vbaDQ2NTX19vYyjCmFp0+f7tq1S6/XC4KQTqfzrkmlUoIg6HS6gwcPvnnzhklunoK16elpj8dTWVnpcDhGRkaYxBTH2NiY0+nkOM7tdkcikSXXf/r0yeVy8Tzvcrm+fPlSYrpkLV8gELDZbBqN5vz58yLT8sGCSKX+vnxZr9e3trY+f/58WY8ODQ3t2bMnezJkMpmiX2GJMkefz/en3Q6TCT09WFwsOmZ53LkDs/kvu/369euiKBaxweLios/nM5lMFovl3r17xb1FARWg6TQEAXo9rFYMDBQXUyiBAGw26HTo7MT8fImbxeNxr9dbVVXV1tYWXH59aMHFsZEI3G5wHJxOyHEDCofR0QGOg8uFiQmGG4+Pj3+7msRiscIfXGbdcDCII0eg0cDrRTK5vGelSKXQ2Ym6Ouzdixcv2Oz5C48ePWpubjYYDIVfTYoqqfb70dgIkwnd3cU8/iN372LrVmzcCJ9P7rMsezVZvXq11Wp98uTJkuuLrTb/dgAdOIDXr/MsiMXg9aK5GVottFrs2IFz5/DjVfvtW7S1oaYGnZ1sC+h/TzQadbvdHMc5HI7379//ZmVphfjj4zh5Ejodcr5ilmweTSZhNOLoUbx7V9ILFEsoFLLb7dXV1R6PZ3Z2Nu8aFj0KOadmgc2jTM/a4vD7/Y2NjevXr+/q6vr1liBD+0Z5m0dLJJ1OC4JQW1vb2tr67NmzH6dkUFPe5lEmTE5OulwujuOcTufHjx+zgzKoqa8HEcLhPFNTUyCCwcA+lAUvX77ct2+fRqPxer3JZFIGNRwHIuT9eEmnQQSOYx/KCFEUr127ZjQaL126JEPTz29ajsNhWruWbcuxHMzMzHAcJ8O/zcvbPCoHer1eq9XKoKbMzaPywf73tbzNo/IhT1tqGZtH5UO23styNY/Kx78mPE7B2xdb7QAAAABJRU5ErkJggg==\" alt=\"icon\" /></td><td align=\"center\" >Lig1</td></tr>\n",
       "<tr><td id=\"1\" >1</td><td><img  title=\"1\" src=\"data:image/png;base64,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\" alt=\"icon\" /></td><td align=\"center\" >Lig2</td></tr>\n",
       "<tr><td id=\"2\" >2</td><td><img  title=\"2\" src=\"data:image/png;base64,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\" alt=\"icon\" /></td><td align=\"center\" >Lig3</td></tr>\n",
       "<tr><td id=\"3\" >3</td><td><img  title=\"3\" src=\"data:image/png;base64,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\" alt=\"icon\" /></td><td align=\"center\" >Lig4</td></tr>\n",
       "<tr><td id=\"4\" >4</td><td><img  title=\"4\" src=\"data:image/png;base64,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\" alt=\"icon\" /></td><td align=\"center\" >Lig5</td></tr>\n",
       "<tr><td id=\"5\" >5</td><td><img  title=\"5\" src=\"data:image/png;base64,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\" alt=\"icon\" /></td><td align=\"center\" >Lig6</td></tr>\n",
       "</tbody>\n",
       "</table>\n"
      ],
      "text/plain": [
       "<IPython.core.display.HTML object>"
      ]
     },
     "execution_count": 3,
     "metadata": {},
     "output_type": "execute_result"
    }
   ],
   "source": [
    "tools.show_table(mol_list)"
   ]
  },
  {
   "cell_type": "markdown",
   "metadata": {},
   "source": [
    "#### Select rows by clicking on them"
   ]
  },
  {
   "cell_type": "markdown",
   "metadata": {},
   "source": [
    "When the name of an ID property is passed to the show_table function, the table becomes interactive and rows can be selected by clicking on the structure.  \n",
    "The value of the respective ID property is inserted into a text box at the bottom and can be used for copy-and-pasting.  \n",
    "When *Query for Remark* is checked, the user is prompted to enter a remark for each selection (e.g. the reason for selecting this compound).  \n",
    "ID and remark are tab-separated for easy pasting into spreadsheets."
   ]
  },
  {
   "cell_type": "code",
   "execution_count": 4,
   "metadata": {
    "collapsed": false
   },
   "outputs": [
    {
     "data": {
      "text/html": [
       "<script type=\"text/javascript\">\n",
       "\n",
       "function toggleCpd(cpdIdent) \n",
       "{\n",
       "  listPos = document.id_list150702134500.data.value.indexOf(cpdIdent);\n",
       "  cpdIdentCell = document.getElementById(cpdIdent+\"_150702134500\");\n",
       "  if (listPos == -1) \n",
       "  {\n",
       "    if (document.id_list150702134500.remark.checked == true) \n",
       "    {\n",
       "      rem = \"\\t\" + prompt(\"Remark (Enter for none):\", \"\");\n",
       "    }\n",
       "    else \n",
       "    {\n",
       "      rem = \"\";\n",
       "    }\n",
       "    document.id_list150702134500.data.value = document.id_list150702134500.data.value + cpdIdent + rem + \"\\n\";\n",
       "    cpdIdentCell.style.backgroundColor = \"yellow\";\n",
       "  }\n",
       "  else\n",
       "  {\n",
       "    removeStr = cpdIdent;\n",
       "    tempStr2 = document.id_list150702134500.data.value;\n",
       "    if (listPos > 0) { \n",
       "      tempStr1 = tempStr2.substring(0, listPos);\n",
       "      tempStr2 = tempStr2.substring(listPos, tempStr2.length);\n",
       "    } else {\n",
       "      tempStr1 = \"\";\n",
       "    }\n",
       "    listPos = tempStr2.indexOf(\"\\n\");\n",
       "    if (listPos < tempStr2.length - 1) {\n",
       "      tempStr1 = tempStr1 + tempStr2.substring(listPos+1, tempStr2.length)\n",
       "    }\n",
       "    document.id_list150702134500.data.value = tempStr1;\n",
       "    cpdIdentCell.style.backgroundColor = \"transparent\";\n",
       "  }\n",
       "}\n",
       "\n",
       "\n",
       "function myShowSelection() {\n",
       "  document.location.hash = \"#SelectionList\";\n",
       "}\n",
       "</script>\n",
       "<table cellpadding=\"1\" cellspacing=\"1\" border=\"1\" summary=\"Table\" align=\"\" height=\"60px\" >\n",
       "<tbody>\n",
       "<tr><td bgcolor=\"#94CAEF\" ><b>#</b></td><td bgcolor=\"#94CAEF\" ><b>Molecule</b></td><td bgcolor=\"#94CAEF\" ><b>ID</b></td></tr>\n",
       "<tr><td id=\"Lig1_150702134500\" >0</td><td><img  onclick=\"toggleCpd('Lig1')\" title=\"Click to select / unselect\" src=\"data:image/png;base64,iVBORw0KGgoAAAANSUhEUgAAAF4AAABCCAIAAABRpPbZAAAFjElEQVR4nO2bS2gTWxjHP2U6bZOmqQ0aH6SiNZKi1hIsgoqRa0UJAR+QLoRuXIS7iiBespKIbip4cVwWQexGSzZCfPSW+kCqUqpIFAyhtlpLbY2ENG2TxiSd/u8i4CNmbJqcyWW486Orc86c//CDnp4p37cCACmLmRm6coVu36bRUSKizZvp2DE6c4bq6hgHQVkEg2hoAFHuT0MDgkG2UYpSk0jAbAYRdu5Eby/m5hCPo68PLS0ggtmMRIJhmqLUCAKI0NSEubmfxufmYLGACFevMkxTlJr9+0GEnp48U7dugQg2G8O0FVDQMWwwUDRK4TCtWZM79fkzrVtHBgNFIqzSFKWmooIWFiiTIY7LncpkiOeJ4yiTYZW2ktVG5aC2logoGs0zlR3U6xmmKUrN9u1ERI8f55nKDmYXMEJRak6cICK6cIESiZ/GEwm6ePH7AlYwPNJlJx7Hli0ggtWKvj7E40gk0N8Pq/V/f68BEAzCZMpzGzaZmN+GFfUXKksslvsNdfy4HN9QClRTLhR1DJcXpalxuWhoKHfw4UM6e5Z5lNLU3L9Pk5O5gx8+0IMHzKOUpqaMqGokUdVIoqqRRFUjiapGElWNJKoaSVQ1kqhqJFHVSKIwNcMtLZ95PmdwQqMZtliYZylMzR+BwGA6nTP4z/x8eyjEPEthasqJqkYSVY0kqhpJVDWSqGokUdVIoqqRRFUjiapGElWNJCtHR0cHBgb+69colFWrVvE8T0SvXr26efNmKBQioqqqqjrm9dREdOPGjcrKyvb29rGxMbZFGDIxNTV16tSpioqKQ4cO8Tx/+vTpaDQqRxABmJiY6Ojo4Hne7XZPT0/LEcOE2dlZj8dTXV3tcDiGh4cBBIPBw4cP19TUeL3er1+/so37Xno0ODi4e/fu+vp6QRAWFhbYxpSIKIpdXV0bNmzYtm1bf39/zqzf79+0aZPZbPb5fAxDf6rKEkWxu7vbaDQ2NTX19vYyjCmFp0+f7tq1S6/XC4KQTqfzrkmlUoIg6HS6gwcPvnnzhklunoK16elpj8dTWVnpcDhGRkaYxBTH2NiY0+nkOM7tdkcikSXXf/r0yeVy8Tzvcrm+fPlSYrpkLV8gELDZbBqN5vz58yLT8sGCSKX+vnxZr9e3trY+f/58WY8ODQ3t2bMnezJkMpmiX2GJMkefz/en3Q6TCT09WFwsOmZ53LkDs/kvu/369euiKBaxweLios/nM5lMFovl3r17xb1FARWg6TQEAXo9rFYMDBQXUyiBAGw26HTo7MT8fImbxeNxr9dbVVXV1tYWXH59aMHFsZEI3G5wHJxOyHEDCofR0QGOg8uFiQmGG4+Pj3+7msRiscIfXGbdcDCII0eg0cDrRTK5vGelSKXQ2Ym6Ouzdixcv2Oz5C48ePWpubjYYDIVfTYoqqfb70dgIkwnd3cU8/iN372LrVmzcCJ9P7rMsezVZvXq11Wp98uTJkuuLrTb/dgAdOIDXr/MsiMXg9aK5GVottFrs2IFz5/DjVfvtW7S1oaYGnZ1sC+h/TzQadbvdHMc5HI7379//ZmVphfjj4zh5Ejodcr5ilmweTSZhNOLoUbx7V9ILFEsoFLLb7dXV1R6PZ3Z2Nu8aFj0KOadmgc2jTM/a4vD7/Y2NjevXr+/q6vr1liBD+0Z5m0dLJJ1OC4JQW1vb2tr67NmzH6dkUFPe5lEmTE5OulwujuOcTufHjx+zgzKoqa8HEcLhPFNTUyCCwcA+lAUvX77ct2+fRqPxer3JZFIGNRwHIuT9eEmnQQSOYx/KCFEUr127ZjQaL126JEPTz29ajsNhWruWbcuxHMzMzHAcJ8O/zcvbPCoHer1eq9XKoKbMzaPywf73tbzNo/IhT1tqGZtH5UO23styNY/Kx78mPE7B2xdb7QAAAABJRU5ErkJggg==\" alt=\"icon\" /></td><td align=\"center\" >Lig1</td></tr>\n",
       "<tr><td id=\"Lig2_150702134500\" >1</td><td><img  onclick=\"toggleCpd('Lig2')\" title=\"Click to select / unselect\" src=\"data:image/png;base64,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\" alt=\"icon\" /></td><td align=\"center\" >Lig2</td></tr>\n",
       "<tr><td id=\"Lig3_150702134500\" >2</td><td><img  onclick=\"toggleCpd('Lig3')\" title=\"Click to select / unselect\" src=\"data:image/png;base64,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\" alt=\"icon\" /></td><td align=\"center\" >Lig3</td></tr>\n",
       "<tr><td id=\"Lig4_150702134500\" >3</td><td><img  onclick=\"toggleCpd('Lig4')\" title=\"Click to select / unselect\" src=\"data:image/png;base64,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\" alt=\"icon\" /></td><td align=\"center\" >Lig4</td></tr>\n",
       "<tr><td id=\"Lig5_150702134500\" >4</td><td><img  onclick=\"toggleCpd('Lig5')\" title=\"Click to select / unselect\" src=\"data:image/png;base64,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\" alt=\"icon\" /></td><td align=\"center\" >Lig5</td></tr>\n",
       "<tr><td id=\"Lig6_150702134500\" >5</td><td><img  onclick=\"toggleCpd('Lig6')\" title=\"Click to select / unselect\" src=\"data:image/png;base64,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\" alt=\"icon\" /></td><td align=\"center\" >Lig6</td></tr>\n",
       "</tbody>\n",
       "</table>\n",
       "<br><b><a name=\"SelectionList\">Selection:</a></b>\n",
       "<form name=\"id_list150702134500\">\n",
       "<input type=\"checkbox\" name=\"remark\" value=\"prompt\" > Prompt for Remarks<br>\n",
       "<textarea name=\"data\" cols=\"70\" rows=\"10\"></textarea>\n",
       "</form>\n"
      ],
      "text/plain": [
       "<IPython.core.display.HTML object>"
      ]
     },
     "execution_count": 4,
     "metadata": {},
     "output_type": "execute_result"
    }
   ],
   "source": [
    "tools.show_table(mol_list, id_prop=\"ID\")"
   ]
  },
  {
   "cell_type": "markdown",
   "metadata": {},
   "source": [
    "### Javascript Molecule Editor Function: *jsme()*"
   ]
  },
  {
   "cell_type": "markdown",
   "metadata": {},
   "source": [
    "\n",
    "The jsme() function displays the Javascript Molecule Editor by Peter Ertl (download from [here](http://peter-ertl.com/jsme/)). The path for the library is currently hard-coded and is expected to be under \"lib/jsme\" (in the notebook folder).  \n",
    "Draw the molecule, then press **done**.  \n",
    "By default, the molecule object is assigned to the variable \"mol\", but other names can be passed to the function."
   ]
  },
  {
   "cell_type": "code",
   "execution_count": 5,
   "metadata": {
    "collapsed": false
   },
   "outputs": [
    {
     "data": {
      "text/html": [
       "<script type=\"text/javascript\" src=\"lib/jsme/jsme.nocache.js\"></script>  \n",
       "<script type=\"text/javascript\">\n",
       "\n",
       "function jsmeOnLoad() {\n",
       "    //arguments: HTML id, width, height (must be string not number!)\n",
       "    jsmeApplet150702134603 = new JSApplet.JSME(\"appletContainer150702134603\", \"380px\", \"340px\", {\n",
       "                     //optional parameters\n",
       "                     \"options\" : \"query,hydrogens\"\n",
       "\t});\n",
       "}\n",
       "\n",
       "function onSubmit() {\n",
       "    var drawing = jsmeApplet150702134603.smiles();\n",
       "    // document.getElementById('jsme_smiles150702134603').value = drawing;\n",
       "    var command = \"mol = Chem.MolFromSmiles('\" + drawing + \"')\";\n",
       "    console.log(\"Executing Command: \" + command);\n",
       "    \n",
       "    var kernel = IPython.notebook.kernel;\n",
       "    kernel.execute(command);\n",
       "}\n",
       "</script>\n",
       "\n",
       "<table align=\"left\" style=\"border: none;\">\n",
       "<tr style=\"border: none;\">\n",
       "<td id=\"appletContainer150702134603\" style=\"border: none;\"></td>\n",
       "<td style=\"vertical-align: bottom; border: none;\">\n",
       "<button onclick=\"onSubmit()\">done !</button>\n",
       "</td>\n",
       "</tr>\n",
       "</table>\n"
      ],
      "text/plain": [
       "<IPython.core.display.HTML object>"
      ]
     },
     "execution_count": 5,
     "metadata": {},
     "output_type": "execute_result"
    }
   ],
   "source": [
    "tools.jsme()"
   ]
  },
  {
   "cell_type": "code",
   "execution_count": 6,
   "metadata": {
    "collapsed": false
   },
   "outputs": [
    {
     "data": {
      "image/png": "[encoded data removed]",
      "text/plain": [
       "<rdkit.Chem.rdchem.Mol at 0x7fe090e76db0>"
      ]
     },
     "execution_count": 6,
     "metadata": {},
     "output_type": "execute_result"
    }
   ],
   "source": [
    "mol"
   ]
  },
  {
   "cell_type": "code",
   "execution_count": 7,
   "metadata": {
    "collapsed": false
   },
   "outputs": [
    {
     "data": {
      "text/plain": [
       "'C7H7NO'"
      ]
     },
     "execution_count": 7,
     "metadata": {},
     "output_type": "execute_result"
    }
   ],
   "source": [
    "Chem.CalcMolFormula(mol)"
   ]
  },
  {
   "cell_type": "code",
   "execution_count": null,
   "metadata": {
    "collapsed": true
   },
   "outputs": [],
   "source": []
  }
 ],
 "metadata": {
  "kernelspec": {
   "display_name": "Python 3",
   "language": "python",
   "name": "python3"
  },
  "language_info": {
   "codemirror_mode": {
    "name": "ipython",
    "version": 3
   },
   "file_extension": ".py",
   "mimetype": "text/x-python",
   "name": "python",
   "nbconvert_exporter": "python",
   "pygments_lexer": "ipython3",
   "version": "3.4.2"
  }
 },
 "nbformat": 4,
 "nbformat_minor": 0
}
