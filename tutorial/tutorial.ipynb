{
 "cells": [
  {
   "cell_type": "markdown",
   "metadata": {},
   "source": [
    "# RDKit IPython Tools Tutorial\n",
    "**This is still WIP!**\n",
    "\n",
    "This tutorial shows some of the features of the RDKit IPython Tools. For installation of the tools, please refer to the main [README.md](../README.md).\n",
    "\n",
    "**Note:** Many features (like the notebook widgets or the JSME) are only correctly displayed when the notebook is actually run, not when it is just displayed in NBviewer.\n",
    "\n",
    "## Highly Recommended Notebook Extensions ([Link](https://github.com/ipython-contrib/jupyter_contrib_nbextensions))\n",
    "1. ExecuteTime\n",
    "1. Freeze\n",
    "1. Hide Input / Hide Input All\n",
    "1. Table of Contents"
   ]
  },
  {
   "cell_type": "code",
   "execution_count": 1,
   "metadata": {
    "ExecuteTime": {
     "end_time": "2016-10-21T11:28:36.468578",
     "start_time": "2016-10-21T11:28:35.816673"
    },
    "collapsed": false,
    "hide_input": false,
    "run_control": {
     "frozen": false,
     "read_only": false
    }
   },
   "outputs": [
    {
     "name": "stdout",
     "output_type": "stream",
     "text": [
      "misc_tools.apl_tools                          (commit: f136688 ( 2016-09-17 19:51:28 ))\n",
      "- no local installation of highcharts found, using web version.\n",
      "rdkit_ipynb_tools.hc_tools                    (commit: 6af5858 ( 2016-10-20 12:22:56 ))\n"
     ]
    },
    {
     "data": {
      "text/html": [
       "\n",
       "<script src=\"http://code.highcharts.com/highcharts.js\"></script>\n",
       "<script src=\"http://code.highcharts.com/highcharts-more.js\"></script>\n",
       "<script src=\"http://code.highcharts.com/modules/heatmap.js\"></script>\n",
       "<script src=\"http://code.highcharts.com/modules/exporting.js\"></script>\n"
      ],
      "text/plain": [
       "<IPython.core.display.HTML object>"
      ]
     },
     "metadata": {},
     "output_type": "display_data"
    },
    {
     "data": {
      "text/html": [
       "\n",
       "    <div class=\"bk-root\">\n",
       "        <a href=\"http://bokeh.pydata.org\" target=\"_blank\" class=\"bk-logo bk-logo-small bk-logo-notebook\"></a>\n",
       "        <span id=\"f29fdde8-e628-4229-b9e8-f398f804cc60\">Loading BokehJS ...</span>\n",
       "    </div>"
      ]
     },
     "metadata": {},
     "output_type": "display_data"
    },
    {
     "data": {
      "application/javascript": [
       "\n",
       "(function(global) {\n",
       "  function now() {\n",
       "    return new Date();\n",
       "  }\n",
       "\n",
       "  var force = \"1\";\n",
       "\n",
       "  if (typeof (window._bokeh_onload_callbacks) === \"undefined\" || force !== \"\") {\n",
       "    window._bokeh_onload_callbacks = [];\n",
       "    window._bokeh_is_loading = undefined;\n",
       "  }\n",
       "\n",
       "\n",
       "  \n",
       "  if (typeof (window._bokeh_timeout) === \"undefined\" || force !== \"\") {\n",
       "    window._bokeh_timeout = Date.now() + 5000;\n",
       "    window._bokeh_failed_load = false;\n",
       "  }\n",
       "\n",
       "  var NB_LOAD_WARNING = {'data': {'text/html':\n",
       "     \"<div style='background-color: #fdd'>\\n\"+\n",
       "     \"<p>\\n\"+\n",
       "     \"BokehJS does not appear to have successfully loaded. If loading BokehJS from CDN, this \\n\"+\n",
       "     \"may be due to a slow or bad network connection. Possible fixes:\\n\"+\n",
       "     \"</p>\\n\"+\n",
       "     \"<ul>\\n\"+\n",
       "     \"<li>re-rerun `output_notebook()` to attempt to load from CDN again, or</li>\\n\"+\n",
       "     \"<li>use INLINE resources instead, as so:</li>\\n\"+\n",
       "     \"</ul>\\n\"+\n",
       "     \"<code>\\n\"+\n",
       "     \"from bokeh.resources import INLINE\\n\"+\n",
       "     \"output_notebook(resources=INLINE)\\n\"+\n",
       "     \"</code>\\n\"+\n",
       "     \"</div>\"}};\n",
       "\n",
       "  function display_loaded() {\n",
       "    if (window.Bokeh !== undefined) {\n",
       "      Bokeh.$(\"#f29fdde8-e628-4229-b9e8-f398f804cc60\").text(\"BokehJS successfully loaded.\");\n",
       "    } else if (Date.now() < window._bokeh_timeout) {\n",
       "      setTimeout(display_loaded, 100)\n",
       "    }\n",
       "  }\n",
       "\n",
       "  function run_callbacks() {\n",
       "    window._bokeh_onload_callbacks.forEach(function(callback) { callback() });\n",
       "    delete window._bokeh_onload_callbacks\n",
       "    console.info(\"Bokeh: all callbacks have finished\");\n",
       "  }\n",
       "\n",
       "  function load_libs(js_urls, callback) {\n",
       "    window._bokeh_onload_callbacks.push(callback);\n",
       "    if (window._bokeh_is_loading > 0) {\n",
       "      console.log(\"Bokeh: BokehJS is being loaded, scheduling callback at\", now());\n",
       "      return null;\n",
       "    }\n",
       "    if (js_urls == null || js_urls.length === 0) {\n",
       "      run_callbacks();\n",
       "      return null;\n",
       "    }\n",
       "    console.log(\"Bokeh: BokehJS not loaded, scheduling load and callback at\", now());\n",
       "    window._bokeh_is_loading = js_urls.length;\n",
       "    for (var i = 0; i < js_urls.length; i++) {\n",
       "      var url = js_urls[i];\n",
       "      var s = document.createElement('script');\n",
       "      s.src = url;\n",
       "      s.async = false;\n",
       "      s.onreadystatechange = s.onload = function() {\n",
       "        window._bokeh_is_loading--;\n",
       "        if (window._bokeh_is_loading === 0) {\n",
       "          console.log(\"Bokeh: all BokehJS libraries loaded\");\n",
       "          run_callbacks()\n",
       "        }\n",
       "      };\n",
       "      s.onerror = function() {\n",
       "        console.warn(\"failed to load library \" + url);\n",
       "      };\n",
       "      console.log(\"Bokeh: injecting script tag for BokehJS library: \", url);\n",
       "      document.getElementsByTagName(\"head\")[0].appendChild(s);\n",
       "    }\n",
       "  };var element = document.getElementById(\"f29fdde8-e628-4229-b9e8-f398f804cc60\");\n",
       "  if (element == null) {\n",
       "    console.log(\"Bokeh: ERROR: autoload.js configured with elementid 'f29fdde8-e628-4229-b9e8-f398f804cc60' but no matching script tag was found. \")\n",
       "    return false;\n",
       "  }\n",
       "\n",
       "  var js_urls = ['https://cdn.pydata.org/bokeh/release/bokeh-0.12.3.min.js', 'https://cdn.pydata.org/bokeh/release/bokeh-widgets-0.12.3.min.js'];\n",
       "\n",
       "  var inline_js = [\n",
       "    function(Bokeh) {\n",
       "      Bokeh.set_log_level(\"info\");\n",
       "    },\n",
       "    \n",
       "    function(Bokeh) {\n",
       "      \n",
       "      Bokeh.$(\"#f29fdde8-e628-4229-b9e8-f398f804cc60\").text(\"BokehJS is loading...\");\n",
       "    },\n",
       "    function(Bokeh) {\n",
       "      console.log(\"Bokeh: injecting CSS: https://cdn.pydata.org/bokeh/release/bokeh-0.12.3.min.css\");\n",
       "      Bokeh.embed.inject_css(\"https://cdn.pydata.org/bokeh/release/bokeh-0.12.3.min.css\");\n",
       "      console.log(\"Bokeh: injecting CSS: https://cdn.pydata.org/bokeh/release/bokeh-widgets-0.12.3.min.css\");\n",
       "      Bokeh.embed.inject_css(\"https://cdn.pydata.org/bokeh/release/bokeh-widgets-0.12.3.min.css\");\n",
       "    }\n",
       "  ];\n",
       "\n",
       "  function run_inline_js() {\n",
       "    \n",
       "    if ((window.Bokeh !== undefined) || (force === \"1\")) {\n",
       "      for (var i = 0; i < inline_js.length; i++) {\n",
       "        inline_js[i](window.Bokeh);\n",
       "      }if (force === \"1\") {\n",
       "        display_loaded();\n",
       "      }} else if (Date.now() < window._bokeh_timeout) {\n",
       "      setTimeout(run_inline_js, 100);\n",
       "    } else if (!window._bokeh_failed_load) {\n",
       "      console.log(\"Bokeh: BokehJS failed to load within specified timeout.\");\n",
       "      window._bokeh_failed_load = true;\n",
       "    } else if (!force) {\n",
       "      var cell = $(\"#f29fdde8-e628-4229-b9e8-f398f804cc60\").parents('.cell').data().cell;\n",
       "      cell.output_area.append_execute_result(NB_LOAD_WARNING)\n",
       "    }\n",
       "\n",
       "  }\n",
       "\n",
       "  if (window._bokeh_is_loading === 0) {\n",
       "    console.log(\"Bokeh: BokehJS loaded, going straight to plotting\");\n",
       "    run_inline_js();\n",
       "  } else {\n",
       "    load_libs(js_urls, function() {\n",
       "      console.log(\"Bokeh: BokehJS plotting callback run at\", now());\n",
       "      run_inline_js();\n",
       "    });\n",
       "  }\n",
       "}(this));"
      ]
     },
     "metadata": {},
     "output_type": "display_data"
    },
    {
     "name": "stdout",
     "output_type": "stream",
     "text": [
      "rdkit_ipynb_tools.tools                       (commit: 6af5858 ( 2016-10-20 12:22:56 ))\n"
     ]
    }
   ],
   "source": [
    "%reload_ext autoreload\n",
    "%autoreload 2\n",
    "\n",
    "from rdkit.Chem import AllChem as Chem\n",
    "from rdkit.Chem import Draw\n",
    "from rdkit.Chem.Draw import IPythonConsole\n",
    "\n",
    "# The next two lines are for optical reasons only. They can be safely disabled.\n",
    "Draw.DrawingOptions.atomLabelFontFace = \"DejaVu Sans\"\n",
    "Draw.DrawingOptions.atomLabelFontSize = 18\n",
    "\n",
    "from rdkit_ipynb_tools import tools, pipeline as p"
   ]
  },
  {
   "cell_type": "markdown",
   "metadata": {},
   "source": [
    "## Example Data Set\n",
    "Endothelin Receptor A (ET-A) Antagonists from [ChEMBL](https://www.ebi.ac.uk/chembl/), downloaded as tab-separated file on 31-Aug-2016, gzipped.\n",
    "\n",
    "### Preparation\n",
    "Count the lines and display the first line"
   ]
  },
  {
   "cell_type": "code",
   "execution_count": 2,
   "metadata": {
    "ExecuteTime": {
     "end_time": "2016-10-21T11:28:38.629115",
     "start_time": "2016-10-21T11:28:38.389354"
    },
    "collapsed": false,
    "run_control": {
     "frozen": false,
     "read_only": false
    }
   },
   "outputs": [
    {
     "name": "stdout",
     "output_type": "stream",
     "text": [
      "2324\n",
      "\n",
      "CMPD_CHEMBLID\tMOLREGNO\tPARENT_CMPD_CHEMBLID\tPARENT_MOLREGNO\tMOL_PREF_NAME\tCOMPOUND_KEY\tMOLWEIGHT\tALOGP\tPSA\tNUM_RO5_VIOLATIONS\tCANONICAL_SMILES\tACTIVITY_ID\tSTANDARD_TYPE\tRELATION\tSTANDARD_VALUE\tSTANDARD_UNITS\tPCHEMBL_VALUE\tACTIVITY_COMMENT\tDATA_VALIDITY_COMMENT\tPOTENTIAL_DUPLICATE\tBAO_ENDPOINT\tUO_UNITS\tQUDT_UNITS\tASSAY_ID\tASSAY_CHEMBLID\tASSAY_TYPE\tDESCRIPTION\tASSAY_SRC_ID\tASSAY_SRC_DESCRIPTION\tASSAY_ORGANISM\tASSAY_STRAIN\tASSAY_TAX_ID\tCURATED_BY\tBAO_FORMAT\tTID\tTARGET_CHEMBLID\tTARGET_TYPE\tPROTEIN_ACCESSION\tPREF_NAME\tORGANISM\tCONFIDENCE_SCORE\tTARGET_MAPPING\tAPD_NAME\tAPD_CONFIDENCE\tDOC_ID\tDOC_CHEMBLID\tPUBMED_ID\tJOURNAL\tYEAR\tVOLUME\tISSUE\tFIRST_PAGE\tCELL_ID\tCELL_CHEMBL_ID\tCELL_NAME\n",
      "\n",
      "gzip: stdout: Broken pipe\n"
     ]
    }
   ],
   "source": [
    "!zcat chembl_et-a_antagonists.txt.gz | wc -l\n",
    "print()\n",
    "!zcat chembl_et-a_antagonists.txt.gz | head -n 1"
   ]
  },
  {
   "cell_type": "markdown",
   "metadata": {},
   "source": [
    "We have 2323 records and a number of fields of which we will only need a few."
   ]
  },
  {
   "cell_type": "markdown",
   "metadata": {},
   "source": [
    "### Curating the Data Set with Pipelines\n",
    "#### Remarks on Pipelines and Performance\n",
    "Pipelines are part of the tools to deal with arbitrarily large data sets with compound-awareness. This is achieved using Python generators.<br>\n",
    "We will now use a pipeline to curate the data set for our needs:\n",
    "1. Read in the data set *(here directly as gzipped file, reading from multiple files is also possible)*\n",
    "1. Transform the IC50 into a pIC50 *(personal pet peeve, ask me about it ;-) )*\n",
    "1. Keep only the fields that we are interested in\n",
    "1. Rename a field\n",
    "1. Filter for high-activity compounds\n",
    "1. Generate the structures from Smiles\n",
    "1. Calculate some physicochemical properties\n",
    "1. Finally, write everything to an SD file"
   ]
  },
  {
   "cell_type": "markdown",
   "metadata": {},
   "source": [
    "The individual elements of the data stream are dictionaries and can be directly accessed by the `custom_man` and `custom_filter` components, using normal dict syntax (e.g. rec[\"&lt;field&gt;\"]).<br>\n",
    "This allows a wide range of manipulations on the data stream.<br>\n",
    "Empty fields are removed from the `rec` dict, so checks for existance before use are necessary in the `custom_xxx` components.\n",
    "\n",
    "`custom_man` and `custom_filter` use `eval()` for running the code."
   ]
  },
  {
   "cell_type": "code",
   "execution_count": 9,
   "metadata": {
    "ExecuteTime": {
     "end_time": "2016-10-21T11:31:25.368626",
     "start_time": "2016-10-21T11:31:23.402790"
    },
    "collapsed": false,
    "run_control": {
     "frozen": false,
     "read_only": false
    }
   },
   "outputs": [
    {
     "data": {
      "text/html": [
       "<table style=\"border: 1px solid black;\"><tbody><tr><td bgcolor=\"#94CAEF\" colspan=2><b>Pipeline finished.</b></td></tr><tr><td bgcolor=\"#94CAEF\"><b>Component</b></td><td bgcolor=\"#94CAEF\"><b># Records</b></td></tr><tr><td>start_csv_reader</td><td>2323</td></tr><tr><td>pipe_custom_filter</td><td>430</td></tr><tr bgcolor=\"#E9E9E9\"><td><i>Time elapsed</i></td><td><i>00h 00m 1.93s</i></td></tr></tbody></table>"
      ],
      "text/plain": [
       "<IPython.core.display.HTML object>"
      ]
     },
     "metadata": {},
     "output_type": "display_data"
    }
   ],
   "source": [
    "s = p.Summary()  # optional, used for logging what the individual components do\n",
    "\n",
    "# code for IC50 --> pIC50 conversion\n",
    "run_code = \"\"\"\n",
    "if \"STANDARD_VALUE\" in rec:\n",
    "    rec[\"ETA_pIC50\"] = tools.pic50(rec[\"STANDARD_VALUE\"], \"nM\")\"\"\"  \n",
    "\n",
    "# code for filtering high-activity compounds\n",
    "run_filter = '\"ETA_pIC50\" in rec and rec[\"ETA_pIC50\"] >= 8'\n",
    "\n",
    "# define the start of the pipeline, can work directly with gzipped files\n",
    "rd = p.start_csv_reader(\"chembl_et-a_antagonists.txt.gz\", summary=s)\n",
    "\n",
    "res = p.pipe(rd,\n",
    "             (p.pipe_custom_man, run_code),\n",
    "             (p.pipe_keep_props, [\"CMPD_CHEMBLID\", \"CANONICAL_SMILES\", \"ETA_pIC50\"]),\n",
    "             (p.pipe_custom_filter, run_filter, {\"summary\": s}),\n",
    "             (p.pipe_rename_prop, \"CMPD_CHEMBLID\", \"Chembl_Id\"),\n",
    "             (p.pipe_mol_from_smiles, \"CANONICAL_SMILES\"),\n",
    "             (p.pipe_calc_props, [\"2d\", \"logp\", \"tpsa\", \"mw\"]),\n",
    "             #(p.pipe_sleep, 0.03),  # a stub comp. to slow down the pipeline for demo purposes\n",
    "             # p.stop_count_records\n",
    "             (p.stop_sdf_writer, \"chembl_et-a_ant_active.sdf\")\n",
    "            )\n",
    "s.update(True)"
   ]
  },
  {
   "cell_type": "markdown",
   "metadata": {
    "hide_input": false
   },
   "source": [
    "The progress of the pipeline is displayed in a HTML table below the cell and can also be monitored by watching the automatically created `pipeline.log` file:<br>\n",
    "Execute this in a **separate** terminal:\n",
    "\n",
    "`<workdir>$ watch -n 2 cat pipeline.log`\n",
    "\n",
    "### Available Pipeline Components\n",
    "\n",
    "| Starting                   | Running                    | Stopping\n",
    "|----------------------------|----------------------------|---------------------------|\n",
    "| start_cache_reader         | pipe_calc_props            | stop_cache_writer         |\n",
    "| start_csv_reader           | pipe_custom_filter         | stop_count_records        |\n",
    "| start_mol_csv_reader       | pipe_custom_man            | stop_csv_writer           |\n",
    "| start_sdf_reader           | pipe_do_nothing            | stop_dict_from_stream     |\n",
    "| start_stream_from_dict     | pipe_has_prop_filter       | stop_mol_list_from_stream |\n",
    "| start_stream_from_mol_list | pipe_id_filter             | stop_sdf_writer           |\n",
    "|                            | pipe_inspect_stream        |                           |\n",
    "|                            | pipe_join_data_from_file   |                           |\n",
    "|                            | pipe_keep_largest_fragment |                           |\n",
    "|                            | pipe_keep_props            |                           |\n",
    "|                            | pipe_merge_data            |                           |\n",
    "|                            | pipe_mol_filter            |                           |\n",
    "|                            | pipe_mol_from_b64          |                           |\n",
    "|                            | pipe_mol_from_smiles       |                           |\n",
    "|                            | pipe_mol_to_b64            |                           |\n",
    "|                            | pipe_mol_to_smiles         |                           |\n",
    "|                            | pipe_neutralize_mol        |                           |\n",
    "|                            | pipe_remove_props          |                           |\n",
    "|                            | pipe_rename_prop           |                           |\n",
    "|                            | pipe_sim_filter            |                           |\n",
    "|                            | pipe_sleep                 |                           |\n"
   ]
  },
  {
   "cell_type": "markdown",
   "metadata": {},
   "source": [
    "## The Mol_List\n",
    "The main workhorse of the RDKit IPython Tools.<br>\n",
    "A literal list of molecules (molecule objects), a subclass of the trusted Python list.\n",
    "\n",
    "It can be populated by loading an SD file, from a *normal* list of molecules or as the end point of a Pipeline."
   ]
  },
  {
   "cell_type": "code",
   "execution_count": null,
   "metadata": {
    "ExecuteTime": {
     "end_time": "2016-09-14T11:38:13.896848",
     "start_time": "2016-09-14T11:38:13.599077"
    },
    "collapsed": false,
    "run_control": {
     "frozen": false,
     "read_only": false
    }
   },
   "outputs": [],
   "source": [
    "mol_list = tools.load_sdf(\"chembl_et-a_ant_active.sdf\")"
   ]
  },
  {
   "cell_type": "code",
   "execution_count": null,
   "metadata": {
    "ExecuteTime": {
     "end_time": "2016-09-14T11:38:20.026255",
     "start_time": "2016-09-14T11:38:20.014112"
    },
    "collapsed": false,
    "run_control": {
     "frozen": false,
     "read_only": false
    }
   },
   "outputs": [],
   "source": [
    "print([x for x in sorted(dir(mol_list)) if not x.startswith(\"_\")])"
   ]
  },
  {
   "cell_type": "markdown",
   "metadata": {},
   "source": [
    "Please use the documentation generated by Sphinx as described in `doc/README.md` or the context help (press shift-tab in the parentheses) for reference, e.g.:<br>"
   ]
  },
  {
   "cell_type": "code",
   "execution_count": null,
   "metadata": {
    "ExecuteTime": {
     "end_time": "2016-08-31T13:50:23.167544",
     "start_time": "2016-08-31T13:50:23.033480"
    },
    "collapsed": false,
    "run_control": {
     "frozen": true,
     "read_only": true
    },
    "scrolled": true
   },
   "outputs": [],
   "source": [
    "# Cell is frozen, i.e. blocked from execution. \n",
    "# Very useful if you do not accidentally want to start a long-running cell again\n",
    "tmp = mol_list.remove_dups_by_struct()"
   ]
  },
  {
   "cell_type": "markdown",
   "metadata": {},
   "source": [
    "### Overviews"
   ]
  },
  {
   "cell_type": "code",
   "execution_count": null,
   "metadata": {
    "ExecuteTime": {
     "end_time": "2016-09-14T11:38:36.520453",
     "start_time": "2016-09-14T11:38:36.488967"
    },
    "collapsed": false,
    "run_control": {
     "frozen": false,
     "read_only": false
    }
   },
   "outputs": [],
   "source": [
    "mol_list.summary()"
   ]
  },
  {
   "cell_type": "code",
   "execution_count": null,
   "metadata": {
    "ExecuteTime": {
     "end_time": "2016-09-14T11:38:39.112968",
     "start_time": "2016-09-14T11:38:39.061070"
    },
    "collapsed": false,
    "run_control": {
     "frozen": false,
     "read_only": false
    }
   },
   "outputs": [],
   "source": [
    "mol_list.correlate()"
   ]
  },
  {
   "cell_type": "markdown",
   "metadata": {},
   "source": [
    "### Report Tables\n",
    "All the reports shown here can also be written to file in HTML format, just use the mol_list.write_xxx() method instead.\n",
    "\n",
    "#### Mol Table\n",
    "The `table` is the default view of a Mol_List and can be invoked by just calling the mol_list:"
   ]
  },
  {
   "cell_type": "code",
   "execution_count": null,
   "metadata": {
    "ExecuteTime": {
     "end_time": "2016-09-14T11:39:16.622352",
     "start_time": "2016-09-14T11:39:16.405117"
    },
    "collapsed": false,
    "run_control": {
     "frozen": false,
     "read_only": false
    },
    "scrolled": true
   },
   "outputs": [],
   "source": [
    "mol_list[:5]  # displays the first 5 molecules of the list\n",
    "#  equivalent to:  mol_list.table()  # pagesize=5"
   ]
  },
  {
   "cell_type": "markdown",
   "metadata": {},
   "source": [
    "So, this is nice, but what if we want to see more than 5 molecules? Displaying the whole list would flood the notebook and not be very convenient.\n",
    "\n",
    "This is where the widgets of the notebook come in handy and allow a page-wise display of the molecules:"
   ]
  },
  {
   "cell_type": "code",
   "execution_count": null,
   "metadata": {
    "ExecuteTime": {
     "end_time": "2016-09-14T11:39:41.554249",
     "start_time": "2016-09-14T11:39:40.868595"
    },
    "collapsed": false,
    "run_control": {
     "frozen": false,
     "read_only": false
    },
    "scrolled": true
   },
   "outputs": [],
   "source": [
    "mol_list.table()  # pagesize=10"
   ]
  },
  {
   "cell_type": "markdown",
   "metadata": {},
   "source": [
    "#### Nested Mol Table\n",
    "The nested mol table displays the properties next to the structure:"
   ]
  },
  {
   "cell_type": "code",
   "execution_count": null,
   "metadata": {
    "ExecuteTime": {
     "end_time": "2016-09-14T11:43:23.150876",
     "start_time": "2016-09-14T11:43:22.870963"
    },
    "collapsed": false,
    "run_control": {
     "frozen": false,
     "read_only": false
    },
    "scrolled": true
   },
   "outputs": [],
   "source": [
    "mol_list.nested()  # pagesize=5"
   ]
  },
  {
   "cell_type": "markdown",
   "metadata": {},
   "source": [
    "#### Grid Table\n",
    "The grid table displays the molecules in a grid. You can pass additional property names to be shown below the structures (separated by \"\\_\"):"
   ]
  },
  {
   "cell_type": "code",
   "execution_count": null,
   "metadata": {
    "ExecuteTime": {
     "end_time": "2016-09-14T11:43:40.985671",
     "start_time": "2016-09-14T11:43:40.620128"
    },
    "collapsed": false,
    "run_control": {
     "frozen": false,
     "read_only": false
    },
    "scrolled": true
   },
   "outputs": [],
   "source": [
    "mol_list.grid()  # props=\"ETA_pIC50\"   props=[\"ETA_pIC50\", \"TPSA\"]"
   ]
  },
  {
   "cell_type": "markdown",
   "metadata": {},
   "source": [
    "### Data Manipulation and Filtering\n",
    "**Note:** Mol_List methods that change the length of the list (e.g. filters) return a *new* Mol_List instance (by default an independent copy). \n",
    "Methods that do not change the length (e.g. calculating data or renaming fields) modify the list *in-place*."
   ]
  },
  {
   "cell_type": "markdown",
   "metadata": {},
   "source": [
    "#### Filter by a Property\n",
    "* By default, the resulting Mol_List is reversely sorted on the filtered property, if it is numeric\n",
    "* Text searches are always lower-case!"
   ]
  },
  {
   "cell_type": "code",
   "execution_count": null,
   "metadata": {
    "ExecuteTime": {
     "end_time": "2016-09-14T11:45:09.455175",
     "start_time": "2016-09-14T11:45:09.100759"
    },
    "collapsed": false,
    "run_control": {
     "frozen": false,
     "read_only": false
    }
   },
   "outputs": [],
   "source": [
    "lipophilic = mol_list.prop_filter('LogP >= 5')\n",
    "\n",
    "lipophilic.grid(props=\"LogP\")"
   ]
  },
  {
   "cell_type": "markdown",
   "metadata": {},
   "source": [
    "Sort by pIC50 and keep only the 100 most active:\n",
    "* Sorting is reverse by default!\n",
    "* Slicing a Mol_List creates a new Mol_List instance."
   ]
  },
  {
   "cell_type": "code",
   "execution_count": null,
   "metadata": {
    "ExecuteTime": {
     "end_time": "2016-09-14T11:45:50.070979",
     "start_time": "2016-09-14T11:45:49.774368"
    },
    "collapsed": false,
    "run_control": {
     "frozen": false,
     "read_only": false
    }
   },
   "outputs": [],
   "source": [
    "mol_list.sort_list(\"ETA_pIC50\")  # reverse by default!\n",
    "most_act = mol_list[:100]  # slicing a Mol_List creates a new Mol_List instance.\n",
    "\n",
    "most_act.grid(props=\"ETA_pIC50\")"
   ]
  },
  {
   "cell_type": "markdown",
   "metadata": {},
   "source": [
    "#### Filter by Substructure"
   ]
  },
  {
   "cell_type": "code",
   "execution_count": null,
   "metadata": {
    "ExecuteTime": {
     "end_time": "2016-09-14T11:46:06.211682",
     "start_time": "2016-09-14T11:46:06.169655"
    },
    "collapsed": false,
    "run_control": {
     "frozen": false,
     "read_only": false
    }
   },
   "outputs": [],
   "source": [
    "smi = \"c2ccc(c1ccccc1)cc2\"\n",
    "biphenyl = mol_list.mol_filter(smi)"
   ]
  },
  {
   "cell_type": "code",
   "execution_count": null,
   "metadata": {
    "ExecuteTime": {
     "end_time": "2016-09-14T11:46:07.948343",
     "start_time": "2016-09-14T11:46:07.636410"
    },
    "collapsed": false,
    "run_control": {
     "frozen": false,
     "read_only": false
    },
    "scrolled": true
   },
   "outputs": [],
   "source": [
    "biphenyl.grid()"
   ]
  },
  {
   "cell_type": "markdown",
   "metadata": {},
   "source": [
    "But where does the Smiles come from?\n",
    "\n",
    "Wouldn't it be nice, if we could actually draw the structure we want to search in the notebook?<br>\n",
    "Introducing...\n",
    "\n",
    "#### The Javascript Molecule Editor ([JSME](http://peter-ertl.com/jsme/), &#169; Peter Ertl) INSIDE the Jupyter Notebook\n",
    "(**note:** the JSME widget is only displayed when you actually run the cell, not when you just view the notebook, e.g. in NBViewer. Also, the state of the editor is not saved, so for documentation purposes, the drawn molecule should be displayed in the notebook afterwards.)\n",
    "\n",
    "When clicking `done`, a global RDKit mol object becomes available, which can be further processed. Other names for the mol object can be used by passing them as string to the jsme() function."
   ]
  },
  {
   "cell_type": "code",
   "execution_count": null,
   "metadata": {
    "ExecuteTime": {
     "end_time": "2016-10-21T10:52:59.079763",
     "start_time": "2016-10-21T10:52:59.067581"
    },
    "collapsed": false,
    "run_control": {
     "frozen": false,
     "read_only": false
    }
   },
   "outputs": [],
   "source": [
    "tools.jsme()"
   ]
  },
  {
   "cell_type": "code",
   "execution_count": null,
   "metadata": {
    "ExecuteTime": {
     "end_time": "2016-10-21T10:53:09.334085",
     "start_time": "2016-10-21T10:53:09.322251"
    },
    "collapsed": false,
    "run_control": {
     "frozen": false,
     "read_only": false
    }
   },
   "outputs": [],
   "source": [
    "smi = Chem.MolToSmiles(mol)\n",
    "smi"
   ]
  },
  {
   "cell_type": "code",
   "execution_count": null,
   "metadata": {
    "ExecuteTime": {
     "end_time": "2016-09-14T11:47:08.620078",
     "start_time": "2016-09-14T11:47:08.320471"
    },
    "collapsed": false,
    "run_control": {
     "frozen": false,
     "read_only": false
    }
   },
   "outputs": [],
   "source": [
    "biphenyl = mol_list.mol_filter(smi)\n",
    "biphenyl.grid()"
   ]
  },
  {
   "cell_type": "markdown",
   "metadata": {},
   "source": [
    "### Plotting\n",
    "Using Highcharts or Bokeh. Bokeh is preferred and is actively developed.<br>\n",
    "The plots are interactive (can be panned, zoomed) and contain structure tooltips!! &nbsp;&nbsp;&nbsp; \\o/\n",
    "\n",
    "The plotting functionality can also be used on its own with dictionaries or Pandas objects as input."
   ]
  },
  {
   "cell_type": "code",
   "execution_count": null,
   "metadata": {
    "ExecuteTime": {
     "end_time": "2016-09-14T11:49:09.183956",
     "start_time": "2016-09-14T11:49:08.772342"
    },
    "collapsed": false,
    "run_control": {
     "frozen": false,
     "read_only": false
    }
   },
   "outputs": [],
   "source": [
    "biphenyl.scatter(\"LogP\", \"ETA_pIC50\")"
   ]
  },
  {
   "cell_type": "code",
   "execution_count": null,
   "metadata": {
    "ExecuteTime": {
     "end_time": "2016-09-14T11:52:58.017094",
     "start_time": "2016-09-14T11:52:57.962252"
    },
    "collapsed": false,
    "run_control": {
     "frozen": false,
     "read_only": false
    }
   },
   "outputs": [],
   "source": [
    "biphenyl.hist(\"ETA_pIC50\")"
   ]
  },
  {
   "cell_type": "markdown",
   "metadata": {},
   "source": [
    "### What Else?"
   ]
  },
  {
   "cell_type": "markdown",
   "metadata": {},
   "source": [
    "#### Methods\n",
    "* Calculate properties (2d, date, formula, smiles, hba, hbd, logp, molid, mw, rotb, sa (synthetic accessibility), tpsa)\n",
    "* Generate a new Mol_List from a list of Ids\n",
    "* Remove duplicates by Id or by structure\n",
    "* Keep / remove properties\n",
    "* Add default properties\n",
    "\n",
    "#### Properties\n",
    "* order: define the order (as list of property names), in which the properties are displayed in the HTML reports\n",
    "  * e.g.: `mol_list.order = [\"Compound_Id\", \"ETA_pIC50\", \"LogP\"]`\n",
    "  * the list does not have to be complete, the other properties follow after the ordered ones\n",
    "* id_prop: define the name of the property used for identifying molecules  \n",
    "(by default, a property ending with \"id\" (case-insensitive) is taken)"
   ]
  },
  {
   "cell_type": "markdown",
   "metadata": {
    "collapsed": true,
    "run_control": {
     "frozen": false,
     "read_only": false
    }
   },
   "source": [
    "# Remarks\n",
    "## Remarks on Pipelines and Performance\n",
    "Processing data from 200k compounds on my notebook takes ~10 - 15 sec.\n",
    "\n",
    "Substructure searches take longer.\n",
    "\n",
    "For performance reasons, I use b64encode and pickle strings of mol objects to store the molecule structures in text format<br>\n",
    "(see also Greg's blog post for [faster structure generation](http://rdkit.blogspot.de/2016/09/avoiding-unnecessary-work-and.html)):\n",
    "\n",
    "```python\n",
    "b64encode(pickle.dumps(mol)).decode()\n",
    "```\n",
    "For me, that has proven to be the fastest method when dealing with flat text files and is also the reason why there are `pipe_mol_to_b64` and `pipe_mol_from_b64` components in the `pipeline` module."
   ]
  },
  {
   "cell_type": "code",
   "execution_count": null,
   "metadata": {
    "collapsed": true
   },
   "outputs": [],
   "source": []
  }
 ],
 "metadata": {
  "anaconda-cloud": {},
  "hide_input": false,
  "kernelspec": {
   "display_name": "Python [default]",
   "language": "python",
   "name": "python3"
  },
  "language_info": {
   "codemirror_mode": {
    "name": "ipython",
    "version": 3
   },
   "file_extension": ".py",
   "mimetype": "text/x-python",
   "name": "python",
   "nbconvert_exporter": "python",
   "pygments_lexer": "ipython3",
   "version": "3.5.2"
  },
  "nav_menu": {},
  "toc": {
   "navigate_menu": true,
   "number_sections": true,
   "sideBar": true,
   "threshold": 6,
   "toc_cell": false,
   "toc_section_display": "block",
   "toc_window_display": false
  }
 },
 "nbformat": 4,
 "nbformat_minor": 0
}
